{
 "cells": [
  {
   "cell_type": "markdown",
   "id": "7fc30c7e",
   "metadata": {},
   "source": [
    "###### The Skimage library allows us to use Python to perform image processing. \n",
    "The language is quite easy to grasp, but it performs some of the most difficult tasks. To get started, I imported few basic libraries."
   ]
  },
  {
   "cell_type": "code",
   "execution_count": 1,
   "id": "5cb969fa",
   "metadata": {},
   "outputs": [],
   "source": [
    "import glob\n",
    "import skimage.io\n",
    "import numpy as np\n",
    "import sklearn\n",
    "import os\n",
    "import skimage\n",
    "import matplotlib.pyplot as plt  \n",
    "import cv2\n",
    "\n",
    "import matplotlib.pyplot as plt\n",
    "\n",
    "import warnings\n",
    "warnings.filterwarnings('ignore')\n",
    "\n",
    "from sklearn import model_selection\n",
    "\n",
    "np.random.seed(42)"
   ]
  },
  {
   "cell_type": "markdown",
   "id": "ad824887",
   "metadata": {},
   "source": [
    "###### Converting Sample files to respective Dataframes\n",
    "\n",
    "Here, I loaded images from their respective folders and performed following operations-\n",
    "\n",
    "Resize - I matched the size of all images to 32x32 as this is very important to understand the structure if image.\n",
    "\n",
    "The images in raw data are in format of BGR/RGB color space which is defined by the three chromaticities of the red, green, and blue additive primaries(In simple words - they are made from Red,blue, green colored lights stacked). Grascale is a way to reduce dimention as it have only two colors black and white. Here, Each pixel have three colors and all these colors have luminance which can be summed for each pixel.\n",
    "\n",
    "Function Loadfiles - allows us to extract texture class paths from respective sub-directories.\n",
    "\n",
    "Function read_images - creates the single image array and image_path files arra for further usage."
   ]
  },
  {
   "cell_type": "code",
   "execution_count": 2,
   "id": "d1de8260",
   "metadata": {},
   "outputs": [],
   "source": [
    "\n",
    "def read_images(images_files, images_arr, imgs_path):\n",
    "    \n",
    "    for folder in os.listdir(images_files):\n",
    "                \n",
    "        # Get the path name of the image\n",
    "        img_path = os.path.join(os.path.join(images_files), folder)\n",
    "        \n",
    "        # Open and resize the img\n",
    "        img = skimage.io.imread(img_path)\n",
    "        img = cv2.resize(img, (32,32))\n",
    "        imgs_path.append(img_path)\n",
    "        images_arr.append(img)\n",
    "    \n",
    "    return images_arr,imgs_path"
   ]
  },
  {
   "cell_type": "code",
   "execution_count": 3,
   "id": "4723b4b3",
   "metadata": {},
   "outputs": [
    {
     "name": "stdout",
     "output_type": "stream",
     "text": [
      "C:\\Users\\Barghavi\\Desktop\\CNN\\textures/training/canvas1\n",
      "C:\\Users\\Barghavi\\Desktop\\CNN\\textures/training/cushion1\n",
      "C:\\Users\\Barghavi\\Desktop\\CNN\\textures/training/linsseeds1\n",
      "C:\\Users\\Barghavi\\Desktop\\CNN\\textures/training/sand1\n",
      "C:\\Users\\Barghavi\\Desktop\\CNN\\textures/training/seat2\n",
      "C:\\Users\\Barghavi\\Desktop\\CNN\\textures/training/stone1\n",
      "C:\\Users\\Barghavi\\Desktop\\CNN\\textures/testing/canvas1\n",
      "C:\\Users\\Barghavi\\Desktop\\CNN\\textures/testing/cushion1\n",
      "C:\\Users\\Barghavi\\Desktop\\CNN\\textures/testing/linsseeds1\n",
      "C:\\Users\\Barghavi\\Desktop\\CNN\\textures/testing/sand1\n",
      "C:\\Users\\Barghavi\\Desktop\\CNN\\textures/testing/seat2\n",
      "C:\\Users\\Barghavi\\Desktop\\CNN\\textures/testing/stone1\n"
     ]
    }
   ],
   "source": [
    "data_train = os.path.join(os.getcwd(),\"textures/training/\")\n",
    "data_train.replace(os.sep, '/')\n",
    "data_test = os.path.join(os.getcwd(),\"textures/testing/\")\n",
    "data_test.replace(os.sep, '/')\n",
    "\n",
    "\n",
    "def loadfiles(data): \n",
    "    images_array=[]\n",
    "    img_path=[]\n",
    "    for file in os.listdir(data_train):\n",
    "        \n",
    "        # Get the path name of the image\n",
    "        file_path = os.path.join(os.path.join(data), file)\n",
    "        print(file_path)\n",
    "        images_array,img_path =read_images(file_path,images_array,img_path )\n",
    "    images_array = np.array(images_array)\n",
    "    return images_array,img_path\n",
    "\n",
    "\n",
    "dataset_train,train_img_path = loadfiles(data_train)\n",
    "dataset_test,test_img_path = loadfiles(data_test)   "
   ]
  },
  {
   "cell_type": "markdown",
   "id": "891de9c4",
   "metadata": {},
   "source": [
    "### 1.1 Getting started\n",
    "\n",
    "Dataset extraction from images\n",
    "Note :\n",
    "Class 0 - dissimilar images pair\n",
    "Class 1 - similar images pair\n",
    "\n",
    "Pairing the images and geneating labels:\n",
    "    The pairs of images are created in the format of N(N-1). Then to generate labels the image texture files names are extracted and used to match similarit and dissimilarity over the paired images."
   ]
  },
  {
   "cell_type": "code",
   "execution_count": 4,
   "id": "a49ce0f0",
   "metadata": {},
   "outputs": [],
   "source": [
    "#Creates a numpy matrix for every pairs of images\n",
    "def pairing_images(images_arr):\n",
    "    df = []\n",
    "    for i in range(len(images_arr)):\n",
    "        for j in range((i+1), len(images_arr)):\n",
    "            df.append(np.concatenate((images_arr[i], images_arr[j]), axis=0))\n",
    "    df = np.array(df)\n",
    "    return df"
   ]
  },
  {
   "cell_type": "code",
   "execution_count": 5,
   "id": "9e048523",
   "metadata": {},
   "outputs": [],
   "source": [
    "#Creating labels :0 - dissimilar, 1 - similar for pairs of images\n",
    "def create_labels(img_files):\n",
    "\n",
    "    imgs_class = []\n",
    "    label = []\n",
    "    \n",
    "    # Find image texture's class\n",
    "    for class_b in img_files:\n",
    "        _, tail = os.path.split(class_b)\n",
    "        labl = os.path.splitext(tail)[0]\n",
    "        labl_name=labl.split('-')[0]\n",
    "        imgs_class.append(labl_name)\n",
    "        \n",
    "    label = labelling(imgs_class)\n",
    "    return label\n",
    "    "
   ]
  },
  {
   "cell_type": "code",
   "execution_count": 6,
   "id": "f362b635",
   "metadata": {},
   "outputs": [],
   "source": [
    "def labelling(imgs_class):\n",
    "    \n",
    "    labels = []\n",
    "    # Assign labels to pairs of images\n",
    "    for img1 in range(len(imgs_class)):\n",
    "        for img2 in range((img1+1), len(imgs_class)):\n",
    "            img1_l = imgs_class[img1]\n",
    "            img2_l = imgs_class[img2]\n",
    "            if img1_l == img2_l:\n",
    "                labels.append('1')\n",
    "            else:\n",
    "                labels.append('0')\n",
    "    labels = np.array(labels)\n",
    "    return labels"
   ]
  },
  {
   "cell_type": "code",
   "execution_count": 7,
   "id": "8dc67e2e",
   "metadata": {},
   "outputs": [],
   "source": [
    "#partitioning the extracted image arrays and paired images into test and train data formats\n",
    "def mk_dataset(training_imgs, testing_imgs):\n",
    "    training_imgs_arr,train_img_path = loadfiles(training_imgs)\n",
    "    testing_imgs_arr,test_img_path = loadfiles(testing_imgs)\n",
    "\n",
    "    print('Shape of images stored in array for Train set :',training_imgs_arr.shape)\n",
    "    print('Shape of images stored in array for Test set :',testing_imgs_arr.shape)\n",
    "    \n",
    "    train_data = pairing_images(training_imgs_arr)\n",
    "    test_data = pairing_images(testing_imgs_arr)\n",
    "    \n",
    "    train_labels = create_labels(train_img_path).astype('int')\n",
    "    test_labels = create_labels(test_img_path).astype('int')\n",
    "    \n",
    "    print('\\n')\n",
    "    print('Shape of dataset created (images in pairs)')\n",
    "    print('Train data :',train_data.shape)\n",
    "    print('Train labels:',train_labels.shape)\n",
    "    print('Test data:',test_data.shape)\n",
    "    print('Test labels:',test_labels.shape)\n",
    "    \n",
    "    return train_data, test_data, train_labels, test_labels"
   ]
  },
  {
   "cell_type": "code",
   "execution_count": 8,
   "id": "8777ed38",
   "metadata": {},
   "outputs": [
    {
     "name": "stdout",
     "output_type": "stream",
     "text": [
      "C:\\Users\\Barghavi\\Desktop\\CNN\\textures/training/canvas1\n",
      "C:\\Users\\Barghavi\\Desktop\\CNN\\textures/training/cushion1\n",
      "C:\\Users\\Barghavi\\Desktop\\CNN\\textures/training/linsseeds1\n",
      "C:\\Users\\Barghavi\\Desktop\\CNN\\textures/training/sand1\n",
      "C:\\Users\\Barghavi\\Desktop\\CNN\\textures/training/seat2\n",
      "C:\\Users\\Barghavi\\Desktop\\CNN\\textures/training/stone1\n",
      "C:\\Users\\Barghavi\\Desktop\\CNN\\textures/testing/canvas1\n",
      "C:\\Users\\Barghavi\\Desktop\\CNN\\textures/testing/cushion1\n",
      "C:\\Users\\Barghavi\\Desktop\\CNN\\textures/testing/linsseeds1\n",
      "C:\\Users\\Barghavi\\Desktop\\CNN\\textures/testing/sand1\n",
      "C:\\Users\\Barghavi\\Desktop\\CNN\\textures/testing/seat2\n",
      "C:\\Users\\Barghavi\\Desktop\\CNN\\textures/testing/stone1\n",
      "Shape of images stored in array for Train set : (180, 32, 32)\n",
      "Shape of images stored in array for Test set : (60, 32, 32)\n",
      "\n",
      "\n",
      "Shape of dataset created (images in pairs)\n",
      "Train data : (16110, 64, 32)\n",
      "Train labels: (16110,)\n",
      "Test data: (1770, 64, 32)\n",
      "Test labels: (1770,)\n"
     ]
    }
   ],
   "source": [
    "train_ds, test_ds, train_labels, test_labels = mk_dataset(data_train, data_test)"
   ]
  },
  {
   "cell_type": "markdown",
   "id": "ccb78307",
   "metadata": {},
   "source": [
    "#### Dataset generation summary:\n",
    "    Intially, the whole image pair array is divided into train and test data.\n",
    "        train image pairs - 16,110\n",
    "        test image pairs - 1,770.\n",
    "    Then the train data is further divided into train and validation data.\n",
    "        train image pairs - 12,726\n",
    "        validation image pairs - 3,384(20% of train data is used for validation).\n",
    "Labelling id done based on similarity of the texture class - 1's(similar) and 0's(dissimilar). "
   ]
  },
  {
   "cell_type": "code",
   "execution_count": 9,
   "id": "ce5550b3",
   "metadata": {},
   "outputs": [],
   "source": [
    "def dataset_reshape(dataset, model_type):\n",
    "    if model_type == 'TM':\n",
    "        return dataset.reshape(dataset.shape[0],2,32,32)\n",
    "    elif model_type == 'MLP':\n",
    "            return dataset.reshape(dataset.shape[0],dataset.shape[1]*dataset.shape[2])\n",
    "    else:\n",
    "        print('Enter model  type as TM or MLP')"
   ]
  },
  {
   "cell_type": "markdown",
   "id": "9464ec49",
   "metadata": {},
   "source": [
    "###### Train and validation test split:\n",
    "    train_test_split method from sklearn is used to split the data into desired shape of train and validation datasets."
   ]
  },
  {
   "cell_type": "code",
   "execution_count": 10,
   "id": "b76627cf",
   "metadata": {},
   "outputs": [
    {
     "name": "stdout",
     "output_type": "stream",
     "text": [
      "Train data size - (12726, 64, 32)\n",
      "Validation data size - (3384, 64, 32)\n"
     ]
    }
   ],
   "source": [
    "# Train and validation test split\n",
    "from sklearn.model_selection import train_test_split\n",
    "\n",
    "X_train, X_val, Y_train, Y_val = train_test_split(train_ds, train_labels, test_size=0.21,\n",
    "                                                                         stratify=train_labels, random_state=0)\n",
    "print('Train data size -',X_train.shape)\n",
    "print('Validation data size -',X_val.shape)"
   ]
  },
  {
   "cell_type": "markdown",
   "id": "609a4965",
   "metadata": {},
   "source": [
    "###### Computing the sum of squared differences (SSD) between two images:\n",
    "    The sum of squared differences (SSD) is a match metric based on the intensity differences between the two images at the pixel level. The sum of squared for the product of pixels subtraction between two images is calculated."
   ]
  },
  {
   "cell_type": "code",
   "execution_count": 11,
   "id": "4efc1489",
   "metadata": {},
   "outputs": [],
   "source": [
    "def calculate_ssd(imageA, imageB):\n",
    "    \"\"\"Computing the sum of squared differences (SSD) between two images.\"\"\"\n",
    "    if imageA.shape[0] != imageB.shape[0]:\n",
    "        print(\"Images don't have the same shape.\")\n",
    "        return\n",
    "    return (np.sum((imageA - imageB)**2)/(32*32))"
   ]
  },
  {
   "cell_type": "markdown",
   "id": "feca3439",
   "metadata": {},
   "source": [
    "### 1.2 Template matching"
   ]
  },
  {
   "cell_type": "code",
   "execution_count": 12,
   "id": "2f01973c",
   "metadata": {},
   "outputs": [],
   "source": [
    "# Function to decide similarity based on ssd scores\n",
    "def base_template_match(img_pairs):\n",
    "    ssd_score = []\n",
    "    for imgs in range(len(img_pairs)):\n",
    "        imageA = img_pairs[imgs][0]\n",
    "        imageB = img_pairs[imgs][1]\n",
    "        ssd_score.append(calculate_ssd(imageA, imageB))\n",
    "    ssd_score = np.array(ssd_score)\n",
    "    \n",
    "    pred = np.empty(ssd_score.shape[0])\n",
    "    for scr in range(len(ssd_score)):\n",
    "        if ssd_score[scr] >= 0.039:\n",
    "            val = 0\n",
    "        else:\n",
    "            val = 1\n",
    "        pred[scr] = val\n",
    "    pred = pred.astype('int')\n",
    "    \n",
    "    return pred, ssd_score"
   ]
  },
  {
   "cell_type": "code",
   "execution_count": 13,
   "id": "25fd3212",
   "metadata": {},
   "outputs": [],
   "source": [
    "# Function to return accuracy and loss scores of template matching method\n",
    "def temp_match_score(labels, prediction):\n",
    "    comp = labels == prediction\n",
    "    right = sum(comp == True)\n",
    "    wrong = sum(comp == False)\n",
    "    acc = right/len(comp)\n",
    "    loss = wrong/len(comp)\n",
    "    return acc, loss"
   ]
  },
  {
   "cell_type": "code",
   "execution_count": 14,
   "id": "5f3c64a8",
   "metadata": {},
   "outputs": [],
   "source": [
    "# Function to validate template match on validation and test sets\n",
    "def validate_temp_match(val_set, val_label):\n",
    "    val_pred, val_sim_score = base_template_match(val_set)\n",
    "    val_acc, val_loss = temp_match_score(val_label, val_pred)\n",
    "    print('Accuracy: {:.2f}%'.format(val_acc*100))\n",
    "    print('Loss: {:.2f}%'.format(val_loss*100))\n",
    "    return val_acc, val_loss"
   ]
  },
  {
   "cell_type": "markdown",
   "id": "7112009a",
   "metadata": {},
   "source": [
    "###### Reshape and normalize:\n",
    "Reshapes the dataset based on the input parameter to 'TM' - template match or 'MLP' - Perceptron. (template match needs two images as input, MLP needs an array of features for every concatenated pair of images)"
   ]
  },
  {
   "cell_type": "code",
   "execution_count": 15,
   "id": "41218d2c",
   "metadata": {},
   "outputs": [
    {
     "name": "stdout",
     "output_type": "stream",
     "text": [
      "Train set size: (12726, 2, 32, 32)\n",
      "Validation set size: (3384, 2, 32, 32)\n"
     ]
    }
   ],
   "source": [
    "tm_X_train = dataset_reshape(X_train, 'TM')\n",
    "tm_X_val = dataset_reshape(X_val, 'TM')\n",
    "\n",
    "# Normalize values\n",
    "tm_X_train = np.multiply(tm_X_train, 1.0/255.0)\n",
    "tm_X_val = np.multiply(tm_X_val, 1.0/255.0)\n",
    "\n",
    "print('Train set size:',tm_X_train.shape)\n",
    "print('Validation set size:',tm_X_val.shape)"
   ]
  },
  {
   "cell_type": "code",
   "execution_count": 16,
   "id": "bf401241",
   "metadata": {},
   "outputs": [],
   "source": [
    "train_tm_pred, train_sim_score = base_template_match(tm_X_train)"
   ]
  },
  {
   "cell_type": "code",
   "execution_count": 17,
   "id": "327e9a28",
   "metadata": {},
   "outputs": [
    {
     "name": "stdout",
     "output_type": "stream",
     "text": [
      "0.0452754528254587\n"
     ]
    }
   ],
   "source": [
    "# calculating the mean value for template_matching value to match the labels\n",
    "a=0\n",
    "b=0\n",
    "for i in train_sim_score:\n",
    "    a=a+i\n",
    "b=a/len(train_sim_score)\n",
    "print(b)"
   ]
  },
  {
   "cell_type": "markdown",
   "id": "78499e8c",
   "metadata": {},
   "source": [
    "###### Data Visualization Plots\n",
    "\n",
    "I used count plots from matplotlib package to visualize the data. It is clearly evident that our data is skewed.\n",
    "\n",
    "Imbalanced classifications present a challenge for predictive modelling because the majority of machine learning algorithms used for classification were designed with the assumption of an equal number of examples for each class.\n",
    "\n",
    "CLASS IMBALANCE:\n",
    "\n",
    "The imbalace in the datasetcan be clearly depicted from the count plot of the labels.\n",
    "similar texture class is just approximately 20% of the total data generated."
   ]
  },
  {
   "cell_type": "code",
   "execution_count": 18,
   "id": "34735400",
   "metadata": {},
   "outputs": [
    {
     "name": "stdout",
     "output_type": "stream",
     "text": [
      "Samples of similar's and dissimilar's-\n",
      " 0    10664\n",
      "1     2062\n",
      "Name: label, dtype: int64\n"
     ]
    },
    {
     "data": {
      "image/png": "[encoded data removed]",
      "text/plain": [
       "<Figure size 432x288 with 1 Axes>"
      ]
     },
     "metadata": {
      "needs_background": "light"
     },
     "output_type": "display_data"
    }
   ],
   "source": [
    "import pandas as pd\n",
    "\n",
    "X_lab=np.array(Y_train)\n",
    "data=pd.DataFrame({'label':X_lab})\n",
    "# visualize the target variable\n",
    "import matplotlib.pyplot as plt\n",
    "import seaborn as sns\n",
    "\n",
    "print(\"Samples of similar's and dissimilar's-\\n\",data['label'].value_counts())\n",
    "g = sns.countplot(data['label'])\n",
    "g.set_xticklabels(['similar','dissimilar'])\n",
    "plt.show()\n"
   ]
  },
  {
   "cell_type": "markdown",
   "id": "e2424ac0",
   "metadata": {},
   "source": [
    "### 1.3 Perceptron"
   ]
  },
  {
   "cell_type": "code",
   "execution_count": 19,
   "id": "39d9ad73",
   "metadata": {},
   "outputs": [
    {
     "name": "stdout",
     "output_type": "stream",
     "text": [
      "Template matching metrics for Train set\n",
      "Accuracy: 84.18\n",
      "Loss: 15.82\n",
      "Classification report for Template matching scores: Train set\n",
      "              precision    recall  f1-score   support\n",
      "\n",
      "           0       0.85      0.98      0.91     10664\n",
      "           1       0.55      0.13      0.21      2062\n",
      "\n",
      "    accuracy                           0.84     12726\n",
      "   macro avg       0.70      0.55      0.56     12726\n",
      "weighted avg       0.80      0.84      0.80     12726\n",
      "\n"
     ]
    }
   ],
   "source": [
    "train_tm_acc, train_tm_loss = temp_match_score(Y_train, train_tm_pred)\n",
    "print('Template matching metrics for Train set')\n",
    "print('Accuracy: {:.2f}'.format(train_tm_acc*100))\n",
    "print('Loss: {:.2f}'.format(train_tm_loss*100))\n",
    "print(\"Classification report for Template matching scores: Train set\")\n",
    "print(sklearn.metrics.classification_report(Y_train, train_tm_pred))"
   ]
  },
  {
   "cell_type": "code",
   "execution_count": 20,
   "id": "ef9b91c8",
   "metadata": {},
   "outputs": [
    {
     "name": "stdout",
     "output_type": "stream",
     "text": [
      "Train set size: (12726, 2048)\n",
      "Validation set size: (3384, 2048)\n"
     ]
    }
   ],
   "source": [
    "mlp_X_train = dataset_reshape(X_train, 'MLP')\n",
    "mlp_X_val = dataset_reshape(X_val, 'MLP')\n",
    "\n",
    "# Normalize values\n",
    "mlp_X_train = np.multiply(mlp_X_train, 1.0 / 255.0)\n",
    "mlp_X_val = np.multiply(mlp_X_val, 1.0 / 255.0)\n",
    "\n",
    "print('Train set size:',mlp_X_train.shape)\n",
    "print('Validation set size:',mlp_X_val.shape)"
   ]
  },
  {
   "cell_type": "code",
   "execution_count": 21,
   "id": "39b31228",
   "metadata": {},
   "outputs": [],
   "source": [
    "from tensorflow import keras\n",
    "\n",
    "def MLP_model(X,y,X_val, Y_val):\n",
    "    mlp_model = keras.Sequential([\n",
    "    keras.layers.Dense(512, input_dim=2048, activation='relu'),\n",
    "    keras.layers.Dense(316, activation='relu'),\n",
    "    keras.layers.Dropout(0.2),\n",
    "    keras.layers.Dense(128, activation='relu'),\n",
    "    keras.layers.BatchNormalization(),\n",
    "    keras.layers.Dense(64, activation='relu'),\n",
    "    keras.layers.Dense(32, activation='relu'),\n",
    "    keras.layers.Dense(1, activation='sigmoid')\n",
    "    ])\n",
    "\n",
    "    opt = keras.optimizers.SGD(lr=0.001, momentum=0.6)\n",
    "    mlp_model.compile(optimizer=opt, loss='binary_crossentropy', metrics=['accuracy'])\n",
    "    mlp_history = mlp_model.fit(X,y,\n",
    "                            epochs=15,verbose=2,\n",
    "                            validation_data = (X_val, Y_val)) \n",
    "    print(\"\\n-----------------------------------\\n\")\n",
    "    plt.figure(figsize=(5,5))\n",
    "    plt.suptitle('MLP - Epoch vs Loss')\n",
    "    plt.plot(mlp_history.history['loss'], label='Training loss')\n",
    "    plt.plot(mlp_history.history['val_loss'], label='Validation loss')\n",
    "    plt.xlabel('Epoch')\n",
    "    plt.ylabel('Loss')\n",
    "    plt.legend()\n",
    "    print(mlp_history)\n",
    "    return mlp_model"
   ]
  },
  {
   "cell_type": "code",
   "execution_count": 22,
   "id": "a7a23644",
   "metadata": {},
   "outputs": [
    {
     "name": "stdout",
     "output_type": "stream",
     "text": [
      "Epoch 1/15\n",
      "398/398 - 4s - loss: 0.5499 - accuracy: 0.7547 - val_loss: 0.4957 - val_accuracy: 0.8381\n",
      "Epoch 2/15\n",
      "398/398 - 3s - loss: 0.4503 - accuracy: 0.8379 - val_loss: 0.4530 - val_accuracy: 0.8381\n",
      "Epoch 3/15\n",
      "398/398 - 3s - loss: 0.4416 - accuracy: 0.8380 - val_loss: 0.4326 - val_accuracy: 0.8381\n",
      "Epoch 4/15\n",
      "398/398 - 3s - loss: 0.4355 - accuracy: 0.8380 - val_loss: 0.4404 - val_accuracy: 0.8381\n",
      "Epoch 5/15\n",
      "398/398 - 3s - loss: 0.4284 - accuracy: 0.8380 - val_loss: 0.4161 - val_accuracy: 0.8381\n",
      "Epoch 6/15\n",
      "398/398 - 3s - loss: 0.4145 - accuracy: 0.8380 - val_loss: 0.4097 - val_accuracy: 0.8381\n",
      "Epoch 7/15\n",
      "398/398 - 3s - loss: 0.4017 - accuracy: 0.8375 - val_loss: 0.3966 - val_accuracy: 0.8372\n",
      "Epoch 8/15\n",
      "398/398 - 3s - loss: 0.3844 - accuracy: 0.8383 - val_loss: 0.3723 - val_accuracy: 0.8392\n",
      "Epoch 9/15\n",
      "398/398 - 3s - loss: 0.3611 - accuracy: 0.8410 - val_loss: 0.3392 - val_accuracy: 0.8425\n",
      "Epoch 10/15\n",
      "398/398 - 3s - loss: 0.3399 - accuracy: 0.8467 - val_loss: 0.3439 - val_accuracy: 0.8395\n",
      "Epoch 11/15\n",
      "398/398 - 3s - loss: 0.3108 - accuracy: 0.8583 - val_loss: 0.3001 - val_accuracy: 0.8511\n",
      "Epoch 12/15\n",
      "398/398 - 3s - loss: 0.2833 - accuracy: 0.8702 - val_loss: 0.3664 - val_accuracy: 0.8280\n",
      "Epoch 13/15\n",
      "398/398 - 3s - loss: 0.2596 - accuracy: 0.8879 - val_loss: 0.2244 - val_accuracy: 0.8978\n",
      "Epoch 14/15\n",
      "398/398 - 3s - loss: 0.2375 - accuracy: 0.8999 - val_loss: 0.2233 - val_accuracy: 0.8969\n",
      "Epoch 15/15\n",
      "398/398 - 3s - loss: 0.2159 - accuracy: 0.9082 - val_loss: 0.2404 - val_accuracy: 0.8862\n",
      "\n",
      "-----------------------------------\n",
      "\n",
      "<keras.callbacks.History object at 0x000001AC78CB06D0>\n"
     ]
    },
    {
     "data": {
      "image/png": "[encoded data removed]",
      "text/plain": [
       "<Figure size 360x360 with 1 Axes>"
      ]
     },
     "metadata": {
      "needs_background": "light"
     },
     "output_type": "display_data"
    }
   ],
   "source": [
    "mlp_model=MLP_model(mlp_X_train, Y_train,mlp_X_val, Y_val)"
   ]
  },
  {
   "cell_type": "code",
   "execution_count": 23,
   "id": "b8985ba4",
   "metadata": {},
   "outputs": [
    {
     "name": "stdout",
     "output_type": "stream",
     "text": [
      "MLP scores metrics for Train set\n",
      "              precision    recall  f1-score   support\n",
      "\n",
      "           0       0.88      1.00      0.94     10664\n",
      "           1       1.00      0.32      0.49      2062\n",
      "\n",
      "    accuracy                           0.89     12726\n",
      "   macro avg       0.94      0.66      0.71     12726\n",
      "weighted avg       0.90      0.89      0.87     12726\n",
      "\n"
     ]
    }
   ],
   "source": [
    "# default threshold 0.5 used during training is used for prediction\n",
    "mlp_train_pred = (mlp_model.predict(mlp_X_train) > 0.5).astype(\"int32\")\n",
    "print('MLP scores metrics for Train set')\n",
    "print(sklearn.metrics.classification_report(Y_train, mlp_train_pred, labels=[0,1]))"
   ]
  },
  {
   "cell_type": "markdown",
   "id": "08f32364",
   "metadata": {},
   "source": [
    "###### Evaluating Model over validation data:"
   ]
  },
  {
   "cell_type": "code",
   "execution_count": 24,
   "id": "d5432428",
   "metadata": {},
   "outputs": [
    {
     "name": "stdout",
     "output_type": "stream",
     "text": [
      "106/106 [==============================] - 0s 3ms/step - loss: 0.2404 - accuracy: 0.8862\n",
      "MLP metrics for Validation set\n",
      "Accuracy: 88.62\n",
      "Loss: 24.04\n",
      "              precision    recall  f1-score   support\n",
      "\n",
      "           0       0.88      1.00      0.94      2836\n",
      "           1       1.00      0.30      0.46       548\n",
      "\n",
      "    accuracy                           0.89      3384\n",
      "   macro avg       0.94      0.65      0.70      3384\n",
      "weighted avg       0.90      0.89      0.86      3384\n",
      "\n"
     ]
    }
   ],
   "source": [
    "mlp_val_loss, mlp_val_acc = mlp_model.evaluate(mlp_X_val, Y_val)\n",
    "print('MLP metrics for Validation set')\n",
    "print('Accuracy: {:.2f}'.format(mlp_val_acc*100))\n",
    "print('Loss: {:.2f}'.format(mlp_val_loss*100))\n",
    "\n",
    "# default threshold 0.5 used during training is used for prediction\n",
    "mlp_val_pred = (mlp_model.predict(mlp_X_val) > 0.5).astype(\"int32\")\n",
    "print(sklearn.metrics.classification_report(Y_val, mlp_val_pred, labels=[0,1]))"
   ]
  },
  {
   "cell_type": "markdown",
   "id": "f19c4420",
   "metadata": {},
   "source": [
    "### 1.4 Classification Comparison\n",
    "General model for classification comparision over template matching for test set:"
   ]
  },
  {
   "cell_type": "code",
   "execution_count": 25,
   "id": "f0596fa2",
   "metadata": {},
   "outputs": [],
   "source": [
    "# Dataset reshape for template match\n",
    "tm_X_test = dataset_reshape(test_ds, 'TM')\n",
    "\n",
    "# Normalize dataset\n",
    "tm_X_test = np.multiply(tm_X_test, 1.0/255.0)"
   ]
  },
  {
   "cell_type": "code",
   "execution_count": 26,
   "id": "cc13aab4",
   "metadata": {},
   "outputs": [
    {
     "name": "stdout",
     "output_type": "stream",
     "text": [
      "Template matching metrics for Test set\n",
      "Accuracy: 85.59%\n",
      "Loss: 14.41%\n",
      "classification report for Template matching scores: Test set\n",
      "              precision    recall  f1-score   support\n",
      "\n",
      "           0       0.86      0.99      0.92      1500\n",
      "           1       0.69      0.10      0.17       270\n",
      "\n",
      "    accuracy                           0.86      1770\n",
      "   macro avg       0.78      0.55      0.55      1770\n",
      "weighted avg       0.83      0.86      0.81      1770\n",
      "\n"
     ]
    }
   ],
   "source": [
    "tm_test_pred, tm_test_score = base_template_match(tm_X_test)\n",
    "print('Template matching metrics for Test set')\n",
    "tm_test_acc, tm_test_loss = validate_temp_match(tm_X_test, test_labels)\n",
    "print('classification report for Template matching scores: Test set')\n",
    "print(sklearn.metrics.classification_report(test_labels, tm_test_pred, labels=[0,1]))"
   ]
  },
  {
   "cell_type": "code",
   "execution_count": 27,
   "id": "2cef339c",
   "metadata": {},
   "outputs": [],
   "source": [
    "# Dataset reshape for template match\n",
    "mlp_X_test = dataset_reshape(test_ds, 'MLP')\n",
    "\n",
    "# Normalize dataset\n",
    "mlp_X_test = np.multiply(mlp_X_test, 1.0/255.0)"
   ]
  },
  {
   "cell_type": "code",
   "execution_count": 28,
   "id": "2156e98b",
   "metadata": {},
   "outputs": [
    {
     "name": "stdout",
     "output_type": "stream",
     "text": [
      "56/56 [==============================] - 0s 3ms/step - loss: 0.8354 - accuracy: 0.6802\n",
      "MLP metrics for Test set\n",
      "Accuracy: 68.02\n",
      "Loss: 83.54\n",
      "              precision    recall  f1-score   support\n",
      "\n",
      "           0       0.85      0.76      0.80      1500\n",
      "           1       0.16      0.25      0.19       270\n",
      "\n",
      "    accuracy                           0.68      1770\n",
      "   macro avg       0.50      0.50      0.50      1770\n",
      "weighted avg       0.74      0.68      0.71      1770\n",
      "\n"
     ]
    }
   ],
   "source": [
    "mlp_test_loss, mlp_test_acc = mlp_model.evaluate(mlp_X_test, test_labels)\n",
    "print('MLP metrics for Test set')\n",
    "print('Accuracy: {:.2f}'.format(mlp_test_acc*100))\n",
    "print('Loss: {:.2f}'.format(mlp_test_loss*100))\n",
    "\n",
    "# default threshold 0.5 used during training is used for prediction\n",
    "mlp_test_pred = (mlp_model.predict(mlp_X_test) > 0.5).astype(\"int32\")\n",
    "print(sklearn.metrics.classification_report(test_labels, mlp_test_pred, labels=[0,1]))"
   ]
  },
  {
   "cell_type": "markdown",
   "id": "a49b46dd",
   "metadata": {},
   "source": [
    "##### Motivation discusiion:\n",
    "\n",
    "For Template matching over all Data:\n",
    "Template Matching - This is the base general approch that does not use and pre-defined methods from libraries.\n",
    "All the techniques used in this model are based on trail and error approach. This model tries to generate the similarity \n",
    "score based on SSD(sum of squared differences) where the labels are assigned based on the threshold set manually to 0.039 \n",
    "which is depicted from train error method using the scores from SSD.\n",
    "\n",
    "For Train data:\n",
    "\n",
    "Accuracy: 84.18 and Loss: 15.82\n",
    "Here, the model has predicted 98% of disimilar and 13% of similar calss.\n",
    "The weighted average F1-score is 80%.\n",
    "\n",
    "For validation data:\n",
    "\n",
    "Accuracy: 84.40 and Loss: 15.60\n",
    "Here, the model has predicted 98% of disimilar and 14% of similar calss.\n",
    "The weighted average F1-score is 80%.\n",
    "\n",
    "For Test data:\n",
    "\n",
    "Accuracy: 85.59 and Loss: 14.41\n",
    "Here, the model has predicted 99% of disimilar and 10% of similar calss.\n",
    "The weighted average F1-score is 81%.\n",
    "\n",
    "We can clearly see from the metrics that model performance is same on train and validation datasets while for the test data it slightly\n",
    "improved which is negligible.From this we can say that the threshold can generalize the unsee texture images fairly.\n",
    "\n",
    "For Multi-Layer Perceptron over all Data:\n",
    "\n",
    "Unlike the template matching approach, MLP necessitates training. To use roughly 12000 images to train the MLP model created in this notebook. However, utilising the SGD optimizer and batch normalisation and momentum, it was possible to train the weights faster.\n",
    "Because the data is heavily skewed, the progression of binaary cross entropy loss across epochs is an important factor to consider when evaluating MLP performance.\n",
    "\n",
    "For Train data:\n",
    "\n",
    "Accuracy: 89.12 and Loss: 24.76\n",
    "Here, the model has predicted 100% of disimilar and 32% of similar calss.\n",
    "The weighted average F1-score is 87%.\n",
    "\n",
    "For validation data:\n",
    "\n",
    "Accuracy: 88.60 and Loss: 24.04\n",
    "Here, the model has predicted 100% of disimilar and 30% of similar calss.\n",
    "The weighted average F1-score is 86%.\n",
    "\n",
    "For Test data:\n",
    "\n",
    "Accuracy: 68.02 and Loss: 83.54\n",
    "Here, the model has predicted 76% of disimilar and 25% of similar calss.\n",
    "The weighted average F1-score is 71%.\n",
    "\n",
    "In terms of the train and validation sets, the model appears to be sound. The train and validation sets have nearly identical accuracy (approx. 89%) and loss (approx. 24%).\n",
    "\n",
    "MLP, on the other hand, has not been able to generalise to new datasets. The model has failed to notice the resemblance since the test set picture textures are never seen by the model. The majority class (dissimilar picture pairs - class 0) is simply predicted by the model.\n",
    "\n",
    "    "
   ]
  },
  {
   "cell_type": "markdown",
   "id": "26cd7fbd",
   "metadata": {},
   "source": [
    "### 1.5 Feature Engineering\n",
    "Feature engineering:\n",
    "To create a magnitude that isn't too sensitive to direction, it takes the square root of the sum of the squares of the horizontal and vertical Sobels. sobel returns a directional Sobel that must be processed further in order to conduct edge detection."
   ]
  },
  {
   "cell_type": "code",
   "execution_count": 29,
   "id": "0e2b8a66",
   "metadata": {},
   "outputs": [],
   "source": [
    "from skimage import filters\n",
    "def edge_filter(img_arr):\n",
    "    img_filter = []\n",
    "    for j in range(len(img_arr)):\n",
    "        sob = skimage.filters.sobel(img_arr[j])\n",
    "        img_filter.append(sob)\n",
    "    img_filter = np.array(img_filter)\n",
    "    \n",
    "    return img_filter"
   ]
  },
  {
   "cell_type": "code",
   "execution_count": 30,
   "id": "82cf5716",
   "metadata": {},
   "outputs": [
    {
     "name": "stdout",
     "output_type": "stream",
     "text": [
      "C:\\Users\\Barghavi\\Desktop\\CNN\\textures/training/canvas1\n",
      "C:\\Users\\Barghavi\\Desktop\\CNN\\textures/training/cushion1\n",
      "C:\\Users\\Barghavi\\Desktop\\CNN\\textures/training/linsseeds1\n",
      "C:\\Users\\Barghavi\\Desktop\\CNN\\textures/training/sand1\n",
      "C:\\Users\\Barghavi\\Desktop\\CNN\\textures/training/seat2\n",
      "C:\\Users\\Barghavi\\Desktop\\CNN\\textures/training/stone1\n",
      "C:\\Users\\Barghavi\\Desktop\\CNN\\textures/testing/canvas1\n",
      "C:\\Users\\Barghavi\\Desktop\\CNN\\textures/testing/cushion1\n",
      "C:\\Users\\Barghavi\\Desktop\\CNN\\textures/testing/linsseeds1\n",
      "C:\\Users\\Barghavi\\Desktop\\CNN\\textures/testing/sand1\n",
      "C:\\Users\\Barghavi\\Desktop\\CNN\\textures/testing/seat2\n",
      "C:\\Users\\Barghavi\\Desktop\\CNN\\textures/testing/stone1\n"
     ]
    }
   ],
   "source": [
    "# Apply filters to each image before pairing\n",
    "train_imgs,train_img_path = loadfiles(data_train)\n",
    "test_imgs,test_img_path = loadfiles(data_test) \n",
    "\n",
    "train_filt_img = edge_filter(train_imgs)\n",
    "test_filt_img = edge_filter(test_imgs)"
   ]
  },
  {
   "cell_type": "code",
   "execution_count": 31,
   "id": "033ec286",
   "metadata": {},
   "outputs": [
    {
     "name": "stdout",
     "output_type": "stream",
     "text": [
      "Reshaped dataset size\n",
      "Train set: (16110, 2048)\n",
      "Test set:  (1770, 2048)\n"
     ]
    }
   ],
   "source": [
    "# Creation of image pairs and dataset reshape for MLP training\n",
    "\n",
    "train_feat = pairing_images(train_filt_img)\n",
    "train_feat = dataset_reshape(train_feat, 'MLP')\n",
    "\n",
    "test_feat = pairing_images(test_filt_img)\n",
    "test_feat = dataset_reshape(test_feat, 'MLP')\n",
    "\n",
    "print('Reshaped dataset size')\n",
    "print('Train set:',train_feat.shape)\n",
    "print('Test set: ',test_feat.shape)"
   ]
  },
  {
   "cell_type": "code",
   "execution_count": 32,
   "id": "ccbbf7eb",
   "metadata": {},
   "outputs": [
    {
     "name": "stdout",
     "output_type": "stream",
     "text": [
      "Train data size (12888, 2048)\n",
      "Validation data size (3222, 2048)\n"
     ]
    }
   ],
   "source": [
    "X_train_filt, X_val_filt, Y_train_filt, Y_val_filt = sklearn.model_selection.train_test_split(train_feat, train_labels, test_size=0.2,\n",
    "                                                                         stratify=train_labels, random_state=0)\n",
    "print('Train data size',X_train_filt.shape)\n",
    "print('Validation data size',X_val_filt.shape)"
   ]
  },
  {
   "cell_type": "code",
   "execution_count": 33,
   "id": "baaafcbc",
   "metadata": {},
   "outputs": [
    {
     "name": "stdout",
     "output_type": "stream",
     "text": [
      "Epoch 1/15\n",
      "403/403 - 3s - loss: 0.5053 - accuracy: 0.7968 - val_loss: 0.5028 - val_accuracy: 0.8380\n",
      "Epoch 2/15\n",
      "403/403 - 3s - loss: 0.4039 - accuracy: 0.8367 - val_loss: 0.3772 - val_accuracy: 0.8380\n",
      "Epoch 3/15\n",
      "403/403 - 3s - loss: 0.3724 - accuracy: 0.8374 - val_loss: 0.3409 - val_accuracy: 0.8380\n",
      "Epoch 4/15\n",
      "403/403 - 3s - loss: 0.3465 - accuracy: 0.8378 - val_loss: 0.3262 - val_accuracy: 0.8417\n",
      "Epoch 5/15\n",
      "403/403 - 3s - loss: 0.3203 - accuracy: 0.8402 - val_loss: 0.2985 - val_accuracy: 0.8457\n",
      "Epoch 6/15\n",
      "403/403 - 3s - loss: 0.2981 - accuracy: 0.8463 - val_loss: 0.2654 - val_accuracy: 0.8582\n",
      "Epoch 7/15\n",
      "403/403 - 3s - loss: 0.2683 - accuracy: 0.8633 - val_loss: 0.2275 - val_accuracy: 0.8880\n",
      "Epoch 8/15\n",
      "403/403 - 3s - loss: 0.2277 - accuracy: 0.8981 - val_loss: 0.1863 - val_accuracy: 0.9199\n",
      "Epoch 9/15\n",
      "403/403 - 3s - loss: 0.1779 - accuracy: 0.9299 - val_loss: 0.1443 - val_accuracy: 0.9354\n",
      "Epoch 10/15\n",
      "403/403 - 3s - loss: 0.1354 - accuracy: 0.9527 - val_loss: 0.0921 - val_accuracy: 0.9783\n",
      "Epoch 11/15\n",
      "403/403 - 4s - loss: 0.0967 - accuracy: 0.9699 - val_loss: 0.0601 - val_accuracy: 0.9842\n",
      "Epoch 12/15\n",
      "403/403 - 4s - loss: 0.0734 - accuracy: 0.9790 - val_loss: 0.0440 - val_accuracy: 0.9898\n",
      "Epoch 13/15\n",
      "403/403 - 3s - loss: 0.0535 - accuracy: 0.9854 - val_loss: 0.0318 - val_accuracy: 0.9929\n",
      "Epoch 14/15\n",
      "403/403 - 3s - loss: 0.0414 - accuracy: 0.9888 - val_loss: 0.0172 - val_accuracy: 0.9975\n",
      "Epoch 15/15\n",
      "403/403 - 3s - loss: 0.0307 - accuracy: 0.9932 - val_loss: 0.0154 - val_accuracy: 0.9969\n",
      "\n",
      "-----------------------------------\n",
      "\n",
      "<keras.callbacks.History object at 0x000001AC87292340>\n"
     ]
    },
    {
     "data": {
      "image/png": "[encoded data removed]",
      "text/plain": [
       "<Figure size 360x360 with 1 Axes>"
      ]
     },
     "metadata": {
      "needs_background": "light"
     },
     "output_type": "display_data"
    }
   ],
   "source": [
    "mlp_model_filt = MLP_model(X_train_filt, Y_train_filt,X_val_filt, Y_val_filt)"
   ]
  },
  {
   "cell_type": "code",
   "execution_count": 34,
   "id": "4881b281",
   "metadata": {},
   "outputs": [
    {
     "name": "stdout",
     "output_type": "stream",
     "text": [
      "Train scores\n",
      "              precision    recall  f1-score   support\n",
      "\n",
      "           0       1.00      1.00      1.00     10800\n",
      "           1       1.00      1.00      1.00      2088\n",
      "\n",
      "    accuracy                           1.00     12888\n",
      "   macro avg       1.00      1.00      1.00     12888\n",
      "weighted avg       1.00      1.00      1.00     12888\n",
      "\n"
     ]
    }
   ],
   "source": [
    "# default threshold 0.5 used during training is used for prediction\n",
    "mlp_filt_train_pred = (mlp_model_filt.predict(X_train_filt) > 0.5).astype(\"int32\")\n",
    "print('Train scores')\n",
    "print(sklearn.metrics.classification_report(Y_train_filt, mlp_filt_train_pred, labels=[0,1]))"
   ]
  },
  {
   "cell_type": "code",
   "execution_count": 35,
   "id": "a821b118",
   "metadata": {},
   "outputs": [
    {
     "name": "stdout",
     "output_type": "stream",
     "text": [
      "101/101 [==============================] - 0s 3ms/step - loss: 0.0154 - accuracy: 0.9969\n",
      "MLP (Feature Engineered) metrics for Validation set\n",
      "Accuracy: 99.69\n",
      "Loss: 1.54\n",
      "Validation scores\n",
      "              precision    recall  f1-score   support\n",
      "\n",
      "           0       1.00      1.00      1.00      2700\n",
      "           1       1.00      0.98      0.99       522\n",
      "\n",
      "    accuracy                           1.00      3222\n",
      "   macro avg       1.00      0.99      0.99      3222\n",
      "weighted avg       1.00      1.00      1.00      3222\n",
      "\n"
     ]
    }
   ],
   "source": [
    "mlp_filt_val_loss, mlp_filt_val_acc = mlp_model_filt.evaluate(X_val_filt, Y_val_filt)\n",
    "print('MLP (Feature Engineered) metrics for Validation set')\n",
    "print('Accuracy: {:.2f}'.format(mlp_filt_val_acc*100))\n",
    "print('Loss: {:.2f}'.format(mlp_filt_val_loss*100))\n",
    "mlp_filt_val_pred = (mlp_model_filt.predict(X_val_filt) > 0.5).astype(\"int32\")\n",
    "print('Validation scores')\n",
    "print(sklearn.metrics.classification_report(Y_val_filt, mlp_filt_val_pred, labels=[0,1]))"
   ]
  },
  {
   "cell_type": "code",
   "execution_count": 36,
   "id": "901f3e99",
   "metadata": {
    "scrolled": true
   },
   "outputs": [
    {
     "name": "stdout",
     "output_type": "stream",
     "text": [
      "56/56 [==============================] - 0s 3ms/step - loss: 0.7476 - accuracy: 0.7667\n",
      "MLP (Feature Engineered) metrics for Test set\n",
      "Accuracy: 76.67\n",
      "Loss: 74.76\n",
      "Test scores\n",
      "              precision    recall  f1-score   support\n",
      "\n",
      "           0       0.95      0.77      0.85      1500\n",
      "           1       0.37      0.76      0.50       270\n",
      "\n",
      "    accuracy                           0.77      1770\n",
      "   macro avg       0.66      0.76      0.67      1770\n",
      "weighted avg       0.86      0.77      0.79      1770\n",
      "\n"
     ]
    }
   ],
   "source": [
    "mlp_filt_test_loss, mlp_filt_test_acc = mlp_model_filt.evaluate(test_feat, test_labels)\n",
    "print('MLP (Feature Engineered) metrics for Test set')\n",
    "print('Accuracy: {:.2f}'.format(mlp_filt_test_acc*100))\n",
    "print('Loss: {:.2f}'.format(mlp_filt_test_loss*100))\n",
    "mlp_filt_test_pred = (mlp_model_filt.predict(test_feat) > 0.5).astype(\"int32\")\n",
    "print('Test scores')\n",
    "print(sklearn.metrics.classification_report(test_labels, mlp_filt_test_pred, labels=[0,1]))"
   ]
  },
  {
   "cell_type": "markdown",
   "id": "5f034abc",
   "metadata": {},
   "source": [
    "#### Feature Engineering Discussion:\n",
    "\n",
    "\n",
    "For Multi-Layer Perceptron over all Data:\n",
    "\n",
    "For Train data:\n",
    "\n",
    "Accuracy: 100 and Loss: 1.76\n",
    "Here, the model has predicted 100% of disimilar and 100% of similar calss.\n",
    "The weighted average F1-score is 100%.\n",
    "\n",
    "For validation data:\n",
    "\n",
    "Accuracy: 99.69 and Loss: 1.54\n",
    "Here, the model has predicted 100% of disimilar and 100% of similar calss.\n",
    "The weighted average F1-score is 100%.\n",
    "\n",
    "For Test data:\n",
    "\n",
    "Accuracy: 76.67 and Loss: 74.76\n",
    "Here, the model has predicted 77% of disimilar and 76% of similar calss.\n",
    "The weighted average F1-score is 79%.\n",
    "\n",
    "In terms of the train and validation sets, the model appears to be sound. The train and validation sets have nearly identical accuracy (approx. 100%) and loss (approx. 1.5%).\n",
    "\n",
    "The MLP model with designed features converged faster than the standard MLP model. With only 15 epochs, the feature designed MLP model achieved an approximate accuracy of 100% and a loss of 1%. With 15 epochs, the standard MLP model achieved an accuracy of 84 percent and a loss of 15%. With same epochs and lesser acceleration momentum, the feature-trained MLP model performed better.\n",
    "\n",
    "The sobel filter improved the pixel intensity and features of the images, making it easier for the MLP model to read and learn.\n",
    "MLP's performance has been shown to be boosted by pixel value increases. Given a balanced dataset, it is certain that using additional feature engineering approaches will increase the performance of an MLP model.\n",
    "\n",
    "When compared to the train and validation sets, the model's performance on the test set is poor. This is due to unbalanced data with a very low fraction of data in related image pair classes. The performance of both MLP models on similar image pair classes (class 1) is poor, implying that the model requires more images in class 1 to train and learn.\n"
   ]
  },
  {
   "cell_type": "code",
   "execution_count": null,
   "id": "c744cc2b",
   "metadata": {},
   "outputs": [],
   "source": []
  }
 ],
 "metadata": {
  "kernelspec": {
   "display_name": "Python 3",
   "language": "python",
   "name": "python3"
  },
  "language_info": {
   "codemirror_mode": {
    "name": "ipython",
    "version": 3
   },
   "file_extension": ".py",
   "mimetype": "text/x-python",
   "name": "python",
   "nbconvert_exporter": "python",
   "pygments_lexer": "ipython3",
   "version": "3.8.8"
  }
 },
 "nbformat": 4,
 "nbformat_minor": 5
}
